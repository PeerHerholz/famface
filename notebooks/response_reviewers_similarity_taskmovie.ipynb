{
 "cells": [
  {
   "cell_type": "markdown",
   "metadata": {
    "deletable": true,
    "editable": true
   },
   "source": [
    "# Response to Reviewer 1: similarity of the two MDS solutions\n",
    "\n",
    "Reviewer 1 asked to quantify the similarity of the two MDS solutions found with the task data and the movie data.\n",
    "\n",
    "We will do the following:\n",
    "\n",
    "1. Given the distances between pairs of ROIs, used to compute the MDS solution, we will correlate the ranks of their upper-triangular matrix (Spearman correlation). We will then bootstrap the task data, maintaining the movie data fixed since it has been already cross-validated across subjects, to obtain 95% confidence intervals of the correlation. We will also compute $R_v$ (Abdi 2007, 2010; Robert & Escoufier, 1976). \n",
    "\n",
    "2. Perform procrustes alignment of the movie-data MDS solution in 3 dimensions to the task-data MDS solution, and then plot the change between the two.\n",
    "\n",
    "[Skip to the analyses](#Load-data)"
   ]
  },
  {
   "cell_type": "markdown",
   "metadata": {
    "deletable": true,
    "editable": true
   },
   "source": [
    "## Import and define functions"
   ]
  },
  {
   "cell_type": "code",
   "execution_count": 1,
   "metadata": {
    "collapsed": true,
    "deletable": true,
    "editable": true
   },
   "outputs": [],
   "source": [
    "%matplotlib inline\n",
    "import matplotlib.pyplot as plt\n",
    "import seaborn as sns\n",
    "sns.set_context('notebook')\n",
    "sns.set_style('ticks')\n",
    "sns.set_palette('dark')\n",
    "\n",
    "import sys\n",
    "p = ['../']\n",
    "for pp in p:\n",
    "    if pp not in sys.path:\n",
    "        sys.path.insert(1, pp)\n",
    "\n",
    "import expdir\n",
    "from mvpa2.suite import *\n",
    "from mds_rois import xboost\n",
    "fns = expdir.expdir()\n",
    "from scipy.spatial import distance as dist\n",
    "import seaborn as sns\n",
    "from os.path import join as pjoin\n",
    "import pandas as pd\n",
    "from scipy.spatial.distance import cdist"
   ]
  },
  {
   "cell_type": "code",
   "execution_count": 2,
   "metadata": {
    "collapsed": true,
    "deletable": true,
    "editable": true
   },
   "outputs": [],
   "source": [
    "img_dir = './img_response_reviewers'\n",
    "try:\n",
    "    os.makedirs(img_dir)\n",
    "except OSError:\n",
    "    pass"
   ]
  },
  {
   "cell_type": "code",
   "execution_count": 3,
   "metadata": {
    "collapsed": true,
    "deletable": true,
    "editable": true
   },
   "outputs": [],
   "source": [
    "def load_dsm(subnr):\n",
    "    fn = pjoin(fns.mvpadir(subnr), 'roi_rsa_jimroi_5r_fisher_nooverlap/dsm_condition.hdf5')\n",
    "    ds = h5load(fn)\n",
    "    return ds"
   ]
  },
  {
   "cell_type": "code",
   "execution_count": 4,
   "metadata": {
    "collapsed": true,
    "deletable": true,
    "editable": true
   },
   "outputs": [],
   "source": [
    "def make_ds_distance(ds, make_symmetric=False, rank=False):\n",
    "    if rank:\n",
    "        ds_ = np.apply_along_axis(rankdata, 1, ds)\n",
    "    else:\n",
    "        ds_ = ds.samples\n",
    "    if make_symmetric:\n",
    "        # add transpose and take only upper triangular with diagonal\n",
    "        ds_new = []\n",
    "        for row in ds_:\n",
    "            tmp = row.reshape(8, 8)\n",
    "            tmp += tmp.T\n",
    "            tmp /= 2\n",
    "            ds_new.append(tmp[np.triu_indices_from(tmp)])\n",
    "        ds_ = np.array(ds_new)\n",
    "        \n",
    "    ds_dist = squareform(pdist(ds_, metric='correlation'))\n",
    "    return Dataset(ds_dist, sa=ds.sa, fa={'roi': ds.sa.targets})"
   ]
  },
  {
   "cell_type": "code",
   "execution_count": 5,
   "metadata": {
    "collapsed": true,
    "deletable": true,
    "editable": true
   },
   "outputs": [],
   "source": [
    "def get_average_distance_ds(roi_rdm):\n",
    "    \"\"\"Generate a group distance matrix dataset\"\"\"\n",
    "    dsms_avg = np.mean([pdist(ds, 'correlation') for ds in roi_rdm], axis=0)\n",
    "    dsms_avg = squareform(dsms_avg)\n",
    "    dsms_avg = Dataset(dsms_avg,\n",
    "                       sa=roi_rdm[0].sa,\n",
    "                       fa={'roi': roi_rdm[0].sa.targets})\n",
    "    return dsms_avg"
   ]
  },
  {
   "cell_type": "code",
   "execution_count": 6,
   "metadata": {
    "collapsed": true,
    "deletable": true,
    "editable": true
   },
   "outputs": [],
   "source": [
    "def reorder_dataset(ds, labels_ord):\n",
    "    labels_orig = ds.sa.targets\n",
    "    ds_ord = ds.copy()\n",
    "    idx_reorder = [np.where(lbl == labels_orig)[0][0] for lbl in labels_ord]\n",
    "\n",
    "    ds_ord = ds_ord[:, idx_reorder][idx_reorder, :]\n",
    "    return ds_ord"
   ]
  },
  {
   "cell_type": "code",
   "execution_count": 7,
   "metadata": {
    "collapsed": true,
    "deletable": true,
    "editable": true
   },
   "outputs": [],
   "source": [
    "def get_labels_color(labels):\n",
    "    #assign different colors depending on system\n",
    "    # using colorbrewer2.org qualitative 6-class palette\n",
    "    early_visual = '#0000FF'\n",
    "    dorsal_core_system = '#b1551c'#'#e4761a'\n",
    "    ventral_core_system = '#e41a1a'\n",
    "    anterior_core_system = '#e4a11a'#'#4daf4a'\n",
    "    theory_of_mind = '#008100'\n",
    "    precuneus = '#099997'\n",
    "\n",
    "    label2color = {\n",
    "    'EV1 - L': early_visual,\n",
    "    'EV1 - R': early_visual,\n",
    "    'EV2 - L': early_visual,\n",
    "    'EV2 - R': early_visual,\n",
    "    'IFG1 - L': anterior_core_system,\n",
    "    'IFG2 - L': anterior_core_system,\n",
    "    'IFG2 - R': anterior_core_system,\n",
    "    'MPFC - L': theory_of_mind,\n",
    "    'MPFC - R': theory_of_mind,\n",
    "    'OccFus - L': ventral_core_system,\n",
    "    'OccFus - R': ventral_core_system,\n",
    "    'TPJ - L': theory_of_mind,\n",
    "    'TPJ - R': theory_of_mind,\n",
    "    'aFus - R': ventral_core_system,\n",
    "    'aMTG - L': dorsal_core_system,\n",
    "    'aMTG - R': dorsal_core_system,\n",
    "    'dPreCun - L': precuneus,\n",
    "    'dPreCun - R': precuneus,\n",
    "    'mFus - L': ventral_core_system,\n",
    "    'mFus - R': ventral_core_system,\n",
    "    'mMTG - L': dorsal_core_system,\n",
    "    'mMTG - R': dorsal_core_system,\n",
    "    'mPreCun - L': precuneus,\n",
    "    'mPreCun - R': precuneus,\n",
    "    'pFus - L': ventral_core_system,\n",
    "    'pFus - R': ventral_core_system,\n",
    "    'pMTG - L': dorsal_core_system,\n",
    "    'pMTG - R': dorsal_core_system,\n",
    "    'vPreCun - L': precuneus,\n",
    "    'vPreCun - R': precuneus,\n",
    "    }\n",
    "\n",
    "    labels_color = [label2color[lbl] for lbl in labels]\n",
    "    assert(len(labels) == len(labels_color))\n",
    "    return labels_color"
   ]
  },
  {
   "cell_type": "code",
   "execution_count": 8,
   "metadata": {
    "collapsed": true,
    "deletable": true,
    "editable": true
   },
   "outputs": [],
   "source": [
    "def plot_mds_together(coordinates1, coordinates2, labels, labels_color=None):\n",
    "    \"\"\"Plot the two MDS together with lines going from coordinates2 to coordinates2\"\"\"\n",
    "    fig = plt.figure(figsize=(16, 12))\n",
    "    nd = coordinates1.shape[1]\n",
    "    ax = fig.add_subplot(111)\n",
    "\n",
    "    # I should receive a set of coordinates, a set of labels, and an adjacency matrix\n",
    "    assert(len(coordinates1) == len(labels))\n",
    "    assert(len(coordinates2) == len(labels))\n",
    "    ax.scatter(coordinates1[:, 0], coordinates1[:, 1], s=1, c='k')\n",
    "    ax.scatter(coordinates2[:, 0], coordinates2[:, 1], s=1, c='k')\n",
    "\n",
    "    \n",
    "    # Add lines between the two points\n",
    "    common_kwargs = dict(\n",
    "        alpha=0.7,\n",
    "        #color=m.to_rgba(value),\n",
    "        #alpha=norm_alpha(value),\n",
    "        #linewidth=norm_size(value)#value*linewidth_mult\n",
    "        #linewidth=4\n",
    "    )\n",
    "    for (xs, ys), (xe, ye), color in zip(coordinates2, coordinates1, labels_color):\n",
    "        #ax.plot([xs, xe], [ys, ye], color=color, **common_kwargs)\n",
    "        ax.arrow(xs, ys, xe - xs, ye - ys, color=color, \n",
    "                 width=0.0002, **common_kwargs)\n",
    "\n",
    "\n",
    "    # Add the labels only for the first dataset\n",
    "    text_kwargs = dict(fontsize=16,\n",
    "                    horizontalalignment='center',\n",
    "                    verticalalignment='center',\n",
    "                    weight='bold')\n",
    "    \n",
    "    if labels_color is None:\n",
    "        labels_color = ['black'] * len(labels)\n",
    "\n",
    "    for ((x, y), label, color) in zip(coordinates2, labels, labels_color):\n",
    "        ax.text(x, y, label, color='white', #color, \n",
    "                bbox=dict(facecolor=color, alpha=0.6, boxstyle=\"round,pad=0.3\"), **text_kwargs)\n",
    "\n",
    "        \n",
    "    #pretty_plot(ax)\n",
    "    ax.spines['left'].set_visible(False)\n",
    "    ax.spines['bottom'].set_visible(False)\n",
    "    ax.xaxis.set_visible(False)\n",
    "    ax.yaxis.set_visible(False)\n",
    "    \n",
    "    return fig#, ax"
   ]
  },
  {
   "cell_type": "markdown",
   "metadata": {
    "deletable": true,
    "editable": true
   },
   "source": [
    "## Load data"
   ]
  },
  {
   "cell_type": "markdown",
   "metadata": {
    "deletable": true,
    "editable": true
   },
   "source": [
    "### Task data"
   ]
  },
  {
   "cell_type": "code",
   "execution_count": 9,
   "metadata": {
    "collapsed": false,
    "deletable": true,
    "editable": true
   },
   "outputs": [],
   "source": [
    "# this contains the first level RDMs\n",
    "roi_rdm = [load_dsm(i) for i in range(1, 34)]\n",
    "# this contains the second level RDMs (between ROIs) for each subject\n",
    "roi_dist = [make_ds_distance(ds, make_symmetric=True) for ds in roi_rdm]"
   ]
  },
  {
   "cell_type": "code",
   "execution_count": 10,
   "metadata": {
    "collapsed": false,
    "deletable": true,
    "editable": true
   },
   "outputs": [
    {
     "data": {
      "text/plain": [
       "<Dataset: 30x30@float64, <sa: centers,targets>, <fa: roi>>"
      ]
     },
     "execution_count": 10,
     "metadata": {},
     "output_type": "execute_result"
    }
   ],
   "source": [
    "roi_dist[0]"
   ]
  },
  {
   "cell_type": "markdown",
   "metadata": {
    "deletable": true,
    "editable": true
   },
   "source": [
    "### Movie data"
   ]
  },
  {
   "cell_type": "code",
   "execution_count": 11,
   "metadata": {
    "collapsed": true,
    "deletable": true,
    "editable": true
   },
   "outputs": [],
   "source": [
    "res_hpal1 = h5load('roi_rdm_hpal_part1.hdf5')\n",
    "res_hpal2 = h5load('roi_rdm_hpal_part2.hdf5')"
   ]
  },
  {
   "cell_type": "code",
   "execution_count": 12,
   "metadata": {
    "collapsed": true,
    "deletable": true,
    "editable": true
   },
   "outputs": [],
   "source": [
    "# average across parts\n",
    "hpal_distance = np.tanh((np.arctanh(res_hpal1) + np.arctanh(res_hpal2))/2)\n",
    "# normalize by noise values, as in Guntupalli et al., 2016\n",
    "diag = np.diag(hpal_distance).reshape((1, -1))\n",
    "sqrt_diag = np.sqrt((diag * diag.T))\n",
    "# normalize by noise and make distance\n",
    "hpal_distance_norm = 1. - hpal_distance / sqrt_diag"
   ]
  },
  {
   "cell_type": "code",
   "execution_count": 13,
   "metadata": {
    "collapsed": false,
    "deletable": true,
    "editable": true
   },
   "outputs": [],
   "source": [
    "# get the right order of labels for the movie data\n",
    "roi_coord = pd.read_csv('new_roi_jim.csv')\n",
    "labels_hpal = list(roi_coord['Abbreviation'])"
   ]
  },
  {
   "cell_type": "code",
   "execution_count": 14,
   "metadata": {
    "collapsed": false,
    "deletable": true,
    "editable": true
   },
   "outputs": [],
   "source": [
    "# make it a ds so we can reorder it\n",
    "hpal_distance_norm_ds = Dataset(hpal_distance_norm.copy())\n",
    "hpal_distance_norm_ds.sa['targets'] = labels_hpal"
   ]
  },
  {
   "cell_type": "markdown",
   "metadata": {
    "deletable": true,
    "editable": true
   },
   "source": [
    "## 1. Compute similarity"
   ]
  },
  {
   "cell_type": "markdown",
   "metadata": {
    "deletable": true,
    "editable": true
   },
   "source": [
    "First we reorder all datasets in the same way, so we have correspondence between task and movie data"
   ]
  },
  {
   "cell_type": "code",
   "execution_count": 15,
   "metadata": {
    "collapsed": true,
    "deletable": true,
    "editable": true
   },
   "outputs": [],
   "source": [
    "task_dist_ord = map(lambda x: reorder_dataset(x, labels_hpal), roi_dist)\n",
    "hpal_dist_ord = hpal_distance_norm_ds"
   ]
  },
  {
   "cell_type": "code",
   "execution_count": 16,
   "metadata": {
    "collapsed": false,
    "deletable": true,
    "editable": true
   },
   "outputs": [],
   "source": [
    "for task_dist in task_dist_ord:\n",
    "    assert(np.array_equal(task_dist.targets, hpal_dist_ord.targets))"
   ]
  },
  {
   "cell_type": "markdown",
   "metadata": {
    "deletable": true,
    "editable": true
   },
   "source": [
    "The matrix is symmetric, so we'll take only the upper triangular matrix"
   ]
  },
  {
   "cell_type": "code",
   "execution_count": 17,
   "metadata": {
    "collapsed": false,
    "deletable": true,
    "editable": true
   },
   "outputs": [],
   "source": [
    "hpal_dist_ord_triu = squareform(hpal_dist_ord.samples)\n",
    "task_dist_ord_triu = np.array(map(lambda x: squareform(x.samples), task_dist_ord))"
   ]
  },
  {
   "cell_type": "markdown",
   "metadata": {
    "deletable": true,
    "editable": true
   },
   "source": [
    "Compute the correlation $\\rho_0$"
   ]
  },
  {
   "cell_type": "code",
   "execution_count": 18,
   "metadata": {
    "collapsed": true,
    "deletable": true,
    "editable": true
   },
   "outputs": [],
   "source": [
    "from scipy.stats import spearmanr"
   ]
  },
  {
   "cell_type": "code",
   "execution_count": 19,
   "metadata": {
    "collapsed": false,
    "deletable": true,
    "editable": true
   },
   "outputs": [],
   "source": [
    "def correlate(x, y):\n",
    "    return spearmanr(x, y)[0]"
   ]
  },
  {
   "cell_type": "code",
   "execution_count": 20,
   "metadata": {
    "collapsed": false,
    "deletable": true,
    "editable": true
   },
   "outputs": [],
   "source": [
    "r0 = correlate(\n",
    "    hpal_dist_ord_triu,\n",
    "    task_dist_ord_triu.mean(axis=0))"
   ]
  },
  {
   "cell_type": "code",
   "execution_count": 21,
   "metadata": {
    "collapsed": false,
    "deletable": true,
    "editable": true
   },
   "outputs": [],
   "source": [
    "# Now we can bootstrap\n",
    "nbs = 10000\n",
    "corr_bs = []\n",
    "# set seed for reproducibility\n",
    "np.random.seed(345)\n",
    "for idx in xboost(task_dist_ord_triu.shape[0], nbs):\n",
    "    this_bs = task_dist_ord_triu[idx].mean(axis=0)\n",
    "    corr_bs.append(correlate(this_bs, hpal_dist_ord_triu))\n",
    "corr_bs = np.array(corr_bs)"
   ]
  },
  {
   "cell_type": "code",
   "execution_count": 22,
   "metadata": {
    "collapsed": false,
    "deletable": true,
    "editable": true
   },
   "outputs": [],
   "source": [
    "cis = np.percentile(corr_bs, [2.5, 97.5])"
   ]
  },
  {
   "cell_type": "code",
   "execution_count": 23,
   "metadata": {
    "collapsed": false,
    "deletable": true,
    "editable": true
   },
   "outputs": [
    {
     "name": "stdout",
     "output_type": "stream",
     "text": [
      "Correlation between Movie and Task: 0.48 [0.34, 0.49]\n"
     ]
    }
   ],
   "source": [
    "print(\"Correlation between Movie and Task: {0} [{1}, {2}]\".format(\n",
    "    np.round(r0, 2), *np.round(cis, 2)))"
   ]
  },
  {
   "cell_type": "markdown",
   "metadata": {},
   "source": [
    "Compute $R_v$ (Abdi 2010)"
   ]
  },
  {
   "cell_type": "code",
   "execution_count": 24,
   "metadata": {
    "collapsed": true
   },
   "outputs": [],
   "source": [
    "from scipy import sqrt"
   ]
  },
  {
   "cell_type": "code",
   "execution_count": 25,
   "metadata": {
    "collapsed": true,
    "deletable": true,
    "editable": true
   },
   "outputs": [],
   "source": [
    "def normalize_matrix(X):\n",
    "    # define centering matrix\n",
    "    C = np.eye(X.shape[0]) - 1./X.shape[0]\n",
    "    sX = -np.dot(C, X).dot(C.T)/2.\n",
    "    # compute first eigval\n",
    "    eval1 = np.linalg.eigvals(sX)[0].real\n",
    "    sX /= eval1\n",
    "    return sX"
   ]
  },
  {
   "cell_type": "code",
   "execution_count": 26,
   "metadata": {
    "collapsed": true
   },
   "outputs": [],
   "source": [
    "def rv(X, Y, normalized=False):\n",
    "    X_ = X if normalized else normalize_matrix(X)\n",
    "    Y_ = Y if normalized else normalize_matrix(Y)\n",
    "    vecX = X_.copy().flatten()\n",
    "    vecY = Y_.copy().flatten()\n",
    "    return np.sum(vecX*vecY)/sqrt(np.sum(vecX*vecX)*np.sum(vecY*vecY))"
   ]
  },
  {
   "cell_type": "code",
   "execution_count": 27,
   "metadata": {
    "collapsed": true,
    "deletable": true,
    "editable": true
   },
   "outputs": [],
   "source": [
    "from numpy.testing import assert_almost_equal"
   ]
  },
  {
   "cell_type": "code",
   "execution_count": 28,
   "metadata": {
    "collapsed": true
   },
   "outputs": [],
   "source": [
    "def test_rv():\n",
    "    x = np.random.randn(10, 10)\n",
    "    y = np.random.randn(10, 10)\n",
    "    Dx = squareform(pdist(x))\n",
    "    Dy = squareform(pdist(y))\n",
    "    assert(rv(Dx, Dx) == 1.)\n",
    "    assert(rv(Dx, Dy) >= 0.)\n",
    "\n",
    "    # make very different distance matrices\n",
    "    x1 = np.random.randn(5, 10)\n",
    "    x2 = np.random.randn(5, 10) + 10**8\n",
    "    x = np.vstack((x1, x2))\n",
    "    Dx = squareform(pdist(x))\n",
    "    y = np.vstack((x1, x1))\n",
    "    Dy = squareform(pdist(y))\n",
    "    assert_almost_equal(rv(Dx, Dy), 0)\n",
    "test_rv()"
   ]
  },
  {
   "cell_type": "code",
   "execution_count": 29,
   "metadata": {
    "collapsed": true
   },
   "outputs": [],
   "source": [
    "task_dist_ord_samples = np.array(map(lambda x: x.samples, task_dist_ord))"
   ]
  },
  {
   "cell_type": "code",
   "execution_count": 30,
   "metadata": {
    "collapsed": false,
    "deletable": true,
    "editable": true
   },
   "outputs": [],
   "source": [
    "# Now we can bootstrap\n",
    "nbs = 10000\n",
    "rv_bs = []\n",
    "# set seed for reproducibility\n",
    "np.random.seed(345)\n",
    "for idx in xboost(task_dist_ord_samples.shape[0], nbs):\n",
    "    this_bs = task_dist_ord_samples[idx].mean(axis=0)\n",
    "    rv_bs.append(rv(this_bs, hpal_dist_ord.samples))\n",
    "rv_bs = np.array(rv_bs)"
   ]
  },
  {
   "cell_type": "code",
   "execution_count": 31,
   "metadata": {
    "collapsed": true
   },
   "outputs": [],
   "source": [
    "rv0 = rv(task_dist_ord_samples.mean(axis=0), hpal_dist_ord.samples)"
   ]
  },
  {
   "cell_type": "code",
   "execution_count": 32,
   "metadata": {
    "collapsed": false,
    "deletable": true,
    "editable": true
   },
   "outputs": [],
   "source": [
    "cis_rv = np.percentile(rv_bs, [2.5, 97.5])"
   ]
  },
  {
   "cell_type": "code",
   "execution_count": 33,
   "metadata": {
    "collapsed": false,
    "deletable": true,
    "editable": true
   },
   "outputs": [
    {
     "name": "stdout",
     "output_type": "stream",
     "text": [
      "Rv between Movie and Task: 0.755 [0.7254, 0.7612]\n"
     ]
    }
   ],
   "source": [
    "print(\"Rv between Movie and Task: {0} [{1}, {2}]\".format(\n",
    "    np.round(rv0, 4), *np.round(cis_rv, 4)))"
   ]
  },
  {
   "cell_type": "markdown",
   "metadata": {
    "deletable": true,
    "editable": true
   },
   "source": [
    "Plot a scatterplot"
   ]
  },
  {
   "cell_type": "code",
   "execution_count": 35,
   "metadata": {
    "collapsed": false,
    "deletable": true,
    "editable": true
   },
   "outputs": [
    {
     "data": {
      "image/png": "[encoded data removed]",
      "text/plain": [
       "<matplotlib.figure.Figure at 0x7f21a3f450d0>"
      ]
     },
     "metadata": {},
     "output_type": "display_data"
    }
   ],
   "source": [
    "ax = sns.jointplot(hpal_dist_ord_triu[None, :], \n",
    "              task_dist_ord_triu.mean(axis=0)[None, :], \n",
    "              kind='reg', stat_func=spearmanr)\n",
    "ax.set_axis_labels(xlabel='Movie data correlation distances', ylabel='Task data correlation distances');\n",
    "#ax.savefig(pjoin(img_dir, 'scatterplot_mds.png'), dpi=300)"
   ]
  },
  {
   "cell_type": "markdown",
   "metadata": {
    "deletable": true,
    "editable": true
   },
   "source": [
    "## 2. Perform Procrustes alignment to plot one MDS solution onto the other"
   ]
  },
  {
   "cell_type": "code",
   "execution_count": 36,
   "metadata": {
    "collapsed": false,
    "deletable": true,
    "editable": true
   },
   "outputs": [],
   "source": [
    "from mds_rois import mdsf\n",
    "from scipy.spatial import procrustes"
   ]
  },
  {
   "cell_type": "code",
   "execution_count": 37,
   "metadata": {
    "collapsed": true,
    "deletable": true,
    "editable": true
   },
   "outputs": [],
   "source": [
    "# task solution\n",
    "task_coordinate = mdsf(squareform(task_dist_ord_triu.mean(axis=0)), k=3)\n",
    "# movie solution\n",
    "movie_coordinate = mdsf(squareform(hpal_dist_ord_triu), k=3)"
   ]
  },
  {
   "cell_type": "code",
   "execution_count": 38,
   "metadata": {
    "collapsed": false,
    "deletable": true,
    "editable": true
   },
   "outputs": [],
   "source": [
    "task_pr, movie_pr, disparity = procrustes(task_coordinate, movie_coordinate)"
   ]
  },
  {
   "cell_type": "code",
   "execution_count": 39,
   "metadata": {
    "collapsed": true,
    "deletable": true,
    "editable": true
   },
   "outputs": [],
   "source": [
    "labels_color = get_labels_color(labels_hpal)"
   ]
  },
  {
   "cell_type": "code",
   "execution_count": 41,
   "metadata": {
    "collapsed": false,
    "deletable": true,
    "editable": true
   },
   "outputs": [
    {
     "data": {
      "image/png": "[encoded data removed]",
      "text/plain": [
       "<matplotlib.figure.Figure at 0x7f219d96ffd0>"
      ]
     },
     "metadata": {},
     "output_type": "display_data"
    }
   ],
   "source": [
    "fig = plot_mds_together(task_pr[:, [0, 1]], movie_pr[:, [0, 1]], \n",
    "                        labels=labels_hpal, labels_color=labels_color);\n",
    "sns.despine(left=True, bottom=True)\n",
    "#fig.savefig(pjoin(img_dir, 'mds_movie2task.png'), dpi=300)"
   ]
  }
 ],
 "metadata": {
  "kernelspec": {
   "display_name": "Python 2",
   "language": "python",
   "name": "python2"
  }
 },
 "nbformat": 4,
 "nbformat_minor": 2
}
